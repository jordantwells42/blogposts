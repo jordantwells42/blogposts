{
 "cells": [
  {
   "cell_type": "code",
   "execution_count": 1,
   "metadata": {},
   "outputs": [],
   "source": [
    "import pandas as pd\n",
    "import numpy as np"
   ]
  },
  {
   "cell_type": "code",
   "execution_count": 9,
   "metadata": {},
   "outputs": [],
   "source": [
    "k = pd.DataFrame({\n",
    "    \"Unit Price\": [300, 20, 30],\n",
    "    \"Quantity\": [3, 20, 14]\n",
    "}, index = [\"Nintendo Switch\", \"Charger\", \"Earbud\"])"
   ]
  },
  {
   "cell_type": "code",
   "execution_count": 12,
   "metadata": {},
   "outputs": [
    {
     "name": "stdout",
     "output_type": "stream",
     "text": [
      "                 Unit Price  Quantity  Total Sales  Ratio of Sales\n",
      "Nintendo Switch         300         3          900        0.523256\n",
      "Charger                  20        20          400        0.232558\n",
      "Earbud                   30        14          420        0.244186\n"
     ]
    }
   ],
   "source": [
    "# Defining the total sales from an item\n",
    "k[\"Total Sales\"] = k[\"Unit Price\"] * k[\"Quantity\"]\n",
    "print(k)"
   ]
  },
  {
   "cell_type": "code",
   "execution_count": 13,
   "metadata": {},
   "outputs": [
    {
     "name": "stdout",
     "output_type": "stream",
     "text": [
      "                 Unit Price  Quantity  Total Sales  Ratio of Sales\n",
      "Nintendo Switch         300         3          900        0.523256\n",
      "Charger                  20        20          400        0.232558\n",
      "Earbud                   30        14          420        0.244186\n"
     ]
    }
   ],
   "source": [
    "# Defining the percentage of all sales for each item\n",
    "k[\"Ratio of Sales\"] = k[\"Total Sales\"]/k[\"Total Sales\"].sum()\n",
    "print(k)"
   ]
  }
 ],
 "metadata": {
  "kernelspec": {
   "display_name": "Python 3",
   "language": "python",
   "name": "python3"
  },
  "language_info": {
   "codemirror_mode": {
    "name": "ipython",
    "version": 3
   },
   "file_extension": ".py",
   "mimetype": "text/x-python",
   "name": "python",
   "nbconvert_exporter": "python",
   "pygments_lexer": "ipython3",
   "version": "3.8.3"
  }
 },
 "nbformat": 4,
 "nbformat_minor": 4
}
