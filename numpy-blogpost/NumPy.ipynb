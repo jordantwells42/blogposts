{
 "cells": [
  {
   "cell_type": "code",
   "execution_count": 1,
   "metadata": {},
   "outputs": [],
   "source": [
    "import numpy as np\n",
    "import sys"
   ]
  },
  {
   "cell_type": "code",
   "execution_count": 2,
   "metadata": {},
   "outputs": [],
   "source": [
    "import numpy as np\n",
    "\n",
    "array_1D = np.array([1,2,3])   # An array (length 3)\n",
    "                               # Which has a shape of (3,) (3 entries)\n",
    "\n",
    "array_2D = np.array([[1,2,3,4,5],    # An array (length 2) of arrays (length 5)\n",
    "                     [6,7,8,9,10]])  # Which has a shape of (2, 5) \n",
    "                                     # 2 entries with 5 entries each\n",
    "\n",
    "array_3D = np.array([[[1,2,3],  # An array (length 2) of arrays (length 3)\n",
    "                      [4,5,6],  # of arrays (length 3)\n",
    "                      [7,8,9]], # Which has a shape of (2, 3, 3)\n",
    "                                # 2 entries with 3 entries each with 3 entries each\n",
    "                     [[9,8,7],\n",
    "                      [6,5,4],\n",
    "                      [3,2,1]]])\n"
   ]
  },
  {
   "cell_type": "code",
   "execution_count": 3,
   "metadata": {},
   "outputs": [],
   "source": [
    "import time\n",
    "\n",
    "array_size = 1000000"
   ]
  },
  {
   "cell_type": "code",
   "execution_count": 4,
   "metadata": {},
   "outputs": [
    {
     "name": "stdout",
     "output_type": "stream",
     "text": [
      "List Speed: 0.3312969207763672\n"
     ]
    }
   ],
   "source": [
    "# Generating the list\n",
    "my_list = [i for i in range(array_size)]\n",
    "\n",
    "# Defining the starting time\n",
    "start_time_list = time.time()\n",
    "\n",
    "for i in range(array_size):   # For each element in the list\n",
    "    my_list[i] += 3           # add 3 to it\n",
    "\n",
    "# Printing the overall time taken to compute\n",
    "print(\"List Speed: \" + str(time.time() - start_time_list))"
   ]
  },
  {
   "cell_type": "code",
   "execution_count": 5,
   "metadata": {},
   "outputs": [
    {
     "name": "stdout",
     "output_type": "stream",
     "text": [
      "Array Speed: 0.0009443759918212891\n"
     ]
    }
   ],
   "source": [
    "# Generating the array\n",
    "my_array = np.arange(array_size)\n",
    "\n",
    "# Defining the starting time\n",
    "start_time_array = time.time()\n",
    "\n",
    "# Adding 3 to every term (Look at how easy it is!)\n",
    "my_array += 3\n",
    "\n",
    "# Printing the overall time taken to compute\n",
    "print(\"Array Speed: \" + str(time.time() - start_time_array))"
   ]
  },
  {
   "cell_type": "code",
   "execution_count": 6,
   "metadata": {},
   "outputs": [
    {
     "name": "stdout",
     "output_type": "stream",
     "text": [
      "[[ 1  3  5]\n",
      " [ 4  6  8]\n",
      " [ 7  9 11]]\n"
     ]
    }
   ],
   "source": [
    "my_3by3 = np.array([[1,2,3],\n",
    "                    [4,5,6],\n",
    "                    [7,8,9]])\n",
    "\n",
    "my_1by3 = np.array([0,1,2])\n",
    "\n",
    "my_3by3 += my_1by3\n",
    "\n",
    "print(my_3by3)"
   ]
  },
  {
   "cell_type": "code",
   "execution_count": 7,
   "metadata": {},
   "outputs": [
    {
     "name": "stdout",
     "output_type": "stream",
     "text": [
      "List Size: 9016 bytes\n",
      "Array Size: 4096 bytes\n"
     ]
    }
   ],
   "source": [
    "my_list = [i for i in range(1000)]\n",
    "my_array = np.array([i for i in range(1000)])\n",
    "\n",
    "list_size = sys.getsizeof(my_list)\n",
    "array_size = sys.getsizeof(my_array)\n",
    "\n",
    "print(f\"List Size: {str(list_size)} bytes\")\n",
    "print(f\"Array Size: {str(array_size)} bytes\")"
   ]
  },
  {
   "cell_type": "code",
   "execution_count": 8,
   "metadata": {},
   "outputs": [
    {
     "name": "stdout",
     "output_type": "stream",
     "text": [
      "196\n",
      "296\n",
      "496\n"
     ]
    }
   ],
   "source": [
    "int8_array = np.arange(100, dtype = \"int8\")   # Output range: -127 to 127\n",
    "print(sys.getsizeof(int8_array))\n",
    "\n",
    "int16_array = np.arange(100, dtype = \"int16\")\n",
    "print(sys.getsizeof(int16_array))\n",
    "\n",
    "int32_array = np.arange(100, dtype = \"int32\")\n",
    "print(sys.getsizeof(int32_array))"
   ]
  },
  {
   "cell_type": "code",
   "execution_count": 9,
   "metadata": {},
   "outputs": [
    {
     "name": "stdout",
     "output_type": "stream",
     "text": [
      "Shape: (2, 5)\n"
     ]
    }
   ],
   "source": [
    "array_2D = np.array([[1,2,3,4,5],    # An array (length 2) of arrays (length 5)\n",
    "                     [6,7,8,9,10]])  \n",
    "\n",
    "shape = array_2D.shape\n",
    "print(f\"Shape: {shape}\")             # Which has a shape of (2, 5) \n"
   ]
  },
  {
   "cell_type": "code",
   "execution_count": 10,
   "metadata": {},
   "outputs": [],
   "source": [
    "# An array from a certain shape\n",
    "shape = (2, 3, 3)\n",
    "empty_array = np.empty(shape)    # Creates an array with specifying entries\n",
    "zeros_array = np.zeros(shape)    # Creates an array of zeros from a shape\n",
    "ones_array = np.ones(shape)      # Creates an array of ones from a shape\n",
    " \n",
    "fill_value = 3\n",
    "filled_array = np.full(shape, fill_value)  # Creates an array of a value from a shape\n",
    "\n",
    "# An array from numerical ranges\n",
    "start = 1\n",
    "stop = 100\n",
    "step = 4\n",
    "num = 10\n",
    "\n",
    "range_array = np.arange(start, stop, step)      # Creates evenly spaced entries\n",
    "linspace_array = np.linspace(start, stop, num)  # Creates evenly spaced entries\n",
    "logspace_array = np.logspace(start, stop, num)  # Creates log-spaced entries"
   ]
  },
  {
   "cell_type": "code",
   "execution_count": 12,
   "metadata": {},
   "outputs": [
    {
     "name": "stdout",
     "output_type": "stream",
     "text": [
      "[[9 8 7]\n",
      " [6 5 6]\n",
      " [7 8 9]]\n"
     ]
    }
   ],
   "source": [
    "array_3D = np.array([[[1,2,3],  # An array (length 2) of arrays (length 3)\n",
    "                      [4,5,6],  # of arrays (length 3)\n",
    "                      [7,8,9]], # Which has a shape of (2, 3, 3)\n",
    "                                # 2 entries with 3 entries each with 3 entries each\n",
    "                     [[9,8,7],\n",
    "                      [6,5,4],\n",
    "                      [3,2,1]]])\n",
    "\n",
    "print(array_3D.max(axis = 0))   # Look at each element of each 3 by 3, and find the max"
   ]
  },
  {
   "cell_type": "code",
   "execution_count": null,
   "metadata": {},
   "outputs": [],
   "source": []
  }
 ],
 "metadata": {
  "kernelspec": {
   "display_name": "Python 3",
   "language": "python",
   "name": "python3"
  },
  "language_info": {
   "codemirror_mode": {
    "name": "ipython",
    "version": 3
   },
   "file_extension": ".py",
   "mimetype": "text/x-python",
   "name": "python",
   "nbconvert_exporter": "python",
   "pygments_lexer": "ipython3",
   "version": "3.8.3"
  }
 },
 "nbformat": 4,
 "nbformat_minor": 4
}
